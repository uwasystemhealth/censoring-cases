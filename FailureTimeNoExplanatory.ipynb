{
 "cells": [
  {
   "cell_type": "markdown",
   "id": "b9ececfe-f3aa-45f6-b96d-50a8ab0e7f50",
   "metadata": {},
   "source": [
    "# Failure-Time Data with no Explanatory Variables\n",
    "---"
   ]
  },
  {
   "cell_type": "code",
   "execution_count": null,
   "id": "db228807-9f59-4f03-85c3-cccd15008246",
   "metadata": {
    "scrolled": true,
    "tags": []
   },
   "outputs": [],
   "source": [
    "%pip install pyreadr pandas matplotlib np lifelines"
   ]
  },
  {
   "cell_type": "markdown",
   "id": "242bb5fc-fab9-4915-8d23-1689e2dbeaab",
   "metadata": {
    "tags": []
   },
   "source": [
    "# Table of Contents\n",
    "1. Example 1: Integrated Circuit Life Test Data\n",
    "2. Example 2: Circuit Pack Reliability Field Trial\n",
    "3. Example 3: Diesel Generator Fan Failure Data\n",
    "4. Example 4: Heat Exchanger Tube Crack Data\n",
    "5. Example 5: Transmitter Vacuum Tube Data\n",
    "6. Example 6: Turbine Wheel Crack Initiation Data"
   ]
  },
  {
   "cell_type": "code",
   "execution_count": null,
   "id": "885eba85-a338-4e1f-8c99-91caa1ac3f64",
   "metadata": {
    "tags": []
   },
   "outputs": [],
   "source": [
    "import pyreadr\n",
    "import pandas as pd\n",
    "import matplotlib\n",
    "import matplotlib.pyplot as plt\n",
    "import numpy as np\n",
    "import itertools\n",
    "import functools\n",
    "import operator\n",
    "import lifelines\n",
    "from lifelines import KaplanMeierFitter, NelsonAalenFitter\n",
    "from lifelines.plotting import plot_lifetimes\n",
    "from statsmodels.distributions.empirical_distribution import ECDF\n",
    "\n",
    "matplotlib.rcParams['figure.figsize'] = (20, 10)"
   ]
  },
  {
   "cell_type": "markdown",
   "id": "466a78df-9e98-40f6-b36d-ba3676103ef6",
   "metadata": {
    "tags": []
   },
   "source": [
    "# Example 1\n",
    "## Integrated Circuit Life Test Data\n",
    "---"
   ]
  },
  {
   "cell_type": "markdown",
   "id": "fd261a2d-1c4a-4832-a687-b2d052a323bf",
   "metadata": {
    "jp-MarkdownHeadingCollapsed": true,
    "tags": []
   },
   "source": [
    "<img src=\"assets/integrated_circuit.JPG\" alt=\"Integrated Circuit\" width=\"300\" />\n",
    "\n",
    "Results of a life test $ n = 4156 $ integrated circuits tested for $ 1370 $ hours at accelerated conditions of $ 80^\\circ C$ and $80\\%$ relative humidity. The accelerated conditions were used to shorten the test by causing defective units to fail more rapidly. \n"
   ]
  },
  {
   "cell_type": "code",
   "execution_count": 84,
   "id": "e3613f1f-ea7e-416e-b154-fb46bfdd9325",
   "metadata": {},
   "outputs": [
    {
     "data": {
      "text/html": [
       "<div>\n",
       "<style scoped>\n",
       "    .dataframe tbody tr th:only-of-type {\n",
       "        vertical-align: middle;\n",
       "    }\n",
       "\n",
       "    .dataframe tbody tr th {\n",
       "        vertical-align: top;\n",
       "    }\n",
       "\n",
       "    .dataframe thead th {\n",
       "        text-align: right;\n",
       "    }\n",
       "</style>\n",
       "<table border=\"1\" class=\"dataframe\">\n",
       "  <thead>\n",
       "    <tr style=\"text-align: right;\">\n",
       "      <th></th>\n",
       "      <th>hours</th>\n",
       "      <th>event</th>\n",
       "    </tr>\n",
       "  </thead>\n",
       "  <tbody>\n",
       "    <tr>\n",
       "      <th>0</th>\n",
       "      <td>0.10</td>\n",
       "      <td>Failure</td>\n",
       "    </tr>\n",
       "    <tr>\n",
       "      <th>0</th>\n",
       "      <td>0.10</td>\n",
       "      <td>Failure</td>\n",
       "    </tr>\n",
       "    <tr>\n",
       "      <th>1</th>\n",
       "      <td>0.15</td>\n",
       "      <td>Failure</td>\n",
       "    </tr>\n",
       "    <tr>\n",
       "      <th>2</th>\n",
       "      <td>0.60</td>\n",
       "      <td>Failure</td>\n",
       "    </tr>\n",
       "    <tr>\n",
       "      <th>3</th>\n",
       "      <td>0.80</td>\n",
       "      <td>Failure</td>\n",
       "    </tr>\n",
       "  </tbody>\n",
       "</table>\n",
       "</div>"
      ],
      "text/plain": [
       "   hours    event\n",
       "0   0.10  Failure\n",
       "0   0.10  Failure\n",
       "1   0.15  Failure\n",
       "2   0.60  Failure\n",
       "3   0.80  Failure"
      ]
     },
     "execution_count": 84,
     "metadata": {},
     "output_type": "execute_result"
    }
   ],
   "source": [
    "# Load dataset (Integrated Circuit Life Test Data [ICLTD])\n",
    "ICLTD = pyreadr.read_r('./data/lfp1370.RData')['lfp1370']\n",
    "\n",
    "ICLTD = ICLTD.loc[ICLTD.index.repeat(ICLTD['count'])]\n",
    "del ICLTD['count']\n",
    "\n",
    "# Preview data format\n",
    "ICLTD.head(5)"
   ]
  },
  {
   "cell_type": "markdown",
   "id": "01059268-4aea-4950-896b-f33d10e9d3d5",
   "metadata": {},
   "source": [
    "As you can see, the dataset is a list of rows corresponding to how many hours the integrated circuit lasted. The \"count\" column indicated how many integrated circuits failed/suspended at that many hours of testing. Let's check the total number of circuit boards tested by summing up the \"count\" column. We can also calculate the total time on test by summing up the \"hours\" column."
   ]
  },
  {
   "cell_type": "code",
   "execution_count": null,
   "id": "bd74d619-9018-4c1b-94e1-f58b20d43590",
   "metadata": {},
   "outputs": [],
   "source": [
    "print(f'Total qty tested: {len(ICLTD)}')\n",
    "print(f'Time on test: {ICLTD[\"hours\"].sum()}\\n')\n",
    "\n",
    "# The describe() method returns some useful statistics about the dataset\n",
    "print(\"Statistics regarding failures only\")\n",
    "print(ICLTD[ICLTD['event'] == 'Failure'].describe())\n",
    "print()\n",
    "\n",
    "ICLTD[ICLTD['event'] == 'Failure'].hours.plot(kind='box', x='hours', title='Integrated Circuit Failure Times')"
   ]
  },
  {
   "cell_type": "markdown",
   "id": "429e23b6-ca83-46e0-9a86-f90134c7a3bc",
   "metadata": {},
   "source": [
    "The above boxplot excludes integrated circuits which were suspended (as opposed to failed). Some information about the suspended data is below. We can see that all censored data occurs at the same time 1370 hours."
   ]
  },
  {
   "cell_type": "code",
   "execution_count": null,
   "id": "f40ccb1d-c096-43ef-994a-e4d7d1194552",
   "metadata": {},
   "outputs": [],
   "source": [
    "ICLTD[ICLTD['event'] == 'Censored'].describe()"
   ]
  },
  {
   "cell_type": "markdown",
   "id": "4438feba-09b0-4b12-b06b-37d7a5c1a994",
   "metadata": {},
   "source": [
    "We will now more closely examine the number of failures within the first $100$ hours. Notice that there are 25 failures within this time, with the mean failure time being $23$ hours."
   ]
  },
  {
   "cell_type": "code",
   "execution_count": null,
   "id": "f84f30a2-e986-4a1e-98ba-1eef9c184632",
   "metadata": {},
   "outputs": [],
   "source": [
    "print(ICLTD[(ICLTD['event'] == 'Failure') & (ICLTD['hours'] < 100)].describe())\n",
    "ICLTD[(ICLTD['event'] == 'Failure') & (ICLTD['hours'] < 100)].hours.plot(kind='box', x='hours', title='Integrated Circuit Failure Times')"
   ]
  },
  {
   "cell_type": "markdown",
   "id": "16b4c135-ba5b-42d2-b453-0598ced155df",
   "metadata": {
    "tags": []
   },
   "source": [
    "# Example 2\n",
    "## Circuit Pack Reliability Field Trial\n",
    "---"
   ]
  },
  {
   "cell_type": "markdown",
   "id": "43b92816-4af9-4481-93f4-cd4e70ec5523",
   "metadata": {
    "tags": []
   },
   "source": [
    "<img src=\"assets/circuit_pack.jpg\" alt=\"Circuit Pack\" width=\"300\" />\n",
    "Periodic inspections were conducted in a field trial of early-production circuit packs employing new technology devices.\n",
    "The circuit packs were manufactured under the same design, but by two different vendors. The trial ran for 10000 hours. The 4993 circuit packs from Vendor 1 came straight from production. 4993 circuit packs from Vendor 2 had already seen 1000 hours of burn-in testing at the maufacturing plant under operating condition similar to those in the field trial. Such circuit packs were sold at a higher price because field reliability was supposed to have been improved by the burn-in screening of circuit packs containing defective components. Failures during the first 1000 hours of burn-in were not recorded. This is the reason for the unknown entries in the table and for having information out to 11000 hours for Vendor 2.\n",
    "Inspections were costly and were spaced more closely at the beginning of the study because more failures were expected there. \n",
    "#### Goals of the study\n",
    "- Determine if there was an important difference in te reliability ofthe products from the two different vendors.\n",
    "- Determine the specific causes of failures so that the information could be used to improve product design or manufacturing methods.\n",
    "- Estimate the circuit pack \"hazard function\" out to 10000 hours\n",
    "- Estimate the point at which the hazard function levels off. After this point in time, burn-in would not be useful for improving the reliability of the circuit packs\n",
    "- Judge if and when the burn-in period can be used effectively to improve early-life reliability\n",
    "- Estimate the failure-time distribution for the first 10000 hours of life (the warranty period for the product)\n",
    "- Estimate the proportion of units that will fail in the first 50000 hours of life.\n",
    "\n"
   ]
  },
  {
   "cell_type": "code",
   "execution_count": null,
   "id": "0a5238ca-f0e4-4575-a392-90809ba165e2",
   "metadata": {},
   "outputs": [],
   "source": [
    "# Load dataset (Circuit Pack Reliability Field Trial [CPRFT])\n",
    "CPRFT = pyreadr.read_r('./data/cirpack6.RData')['cirpack6']\n",
    "CPRFT = CPRFT.loc[CPRFT.index.repeat(CPRFT['count'])]\n",
    "del CPRFT['count']\n",
    "CPRFT"
   ]
  },
  {
   "cell_type": "markdown",
   "id": "9ed9a360-47cd-481d-b044-406ed04d3fb8",
   "metadata": {},
   "source": [
    "Here we can see the structure of the data.\n",
    "`hoursl` and `hoursu` specify the interval of time where the event happened. This is an interval and not a specific value because in practice the people conducting the experiment couldn't know the exact moment a circuit pack would break. They would conduct inspections of all the packs periodically, they would then know if a circuit pack broke since their last inspection (but they don't know exactly when during that time). `event` tells us the kind of event this is, it can take on 3 categories: `Left`, `Interval` and `Suspended`. \"Left\" corresponds to the packs which were removed during Vendor 1's burn-in phase, \"Suspended\" corresponds to packs that remained running at the end of the experiment, \"Interval\" corresponds to packs which failed during an interval of time \\[hoursl, hoursu\\]. `vendor` states which vendor manufactured the circuit pack."
   ]
  },
  {
   "cell_type": "code",
   "execution_count": null,
   "id": "f2e57a84-f2e3-433f-a99c-30b4c5833b4d",
   "metadata": {},
   "outputs": [],
   "source": [
    "failures = CPRFT[(CPRFT['event'] == 'Interval')]\n",
    "\n",
    "fig, ax = plt.subplots(1,3, figsize=(20,5))\n",
    "\n",
    "ymin, ymax = min(min(failures.hoursl), min(failures.hoursu)), max(max(failures.hoursl), max(failures.hoursu))\n",
    "\n",
    "failures[failures.vendor == 'V1'][['hoursl', 'hoursu']].plot(kind=\"box\", title='Vendor 1', ax = ax[0])\n",
    "failures[failures.vendor == 'V2'][['hoursl', 'hoursu']].plot(kind=\"box\", title='Vendor 2', ax = ax[1])\n",
    "failures[['hoursl', 'hoursu']].plot(kind=\"box\", title='Combined', ax = ax[2])\n",
    "for i in range(3):\n",
    "    # make all subplots have the same axis ranges\n",
    "    ax[i].set_ylim(ymin - 1000, ymax * 1.05)\n",
    "    \n",
    "plt.show(fig)"
   ]
  },
  {
   "cell_type": "markdown",
   "id": "3fadcb38-8d43-4d9b-974a-a3d593329863",
   "metadata": {},
   "source": [
    "These $ 3 $ boxplots show the the failure times of the circuit packs for each vendor (**I have only included datapoints which are interval censored**). Each plot consists of 2 sub-plots, one for the fields corresponding to the lower bound on the interval and one for the upper bounds. \n",
    "Take a look at the data we loaded, you may suggest a reasonable estimate for the time a failure happened during an interval is in-between the lower and upper bound, this is false (this phenomenon is named the Poisson Paradox or Inspection Paradox) however is out of the scope of this analysis. "
   ]
  },
  {
   "cell_type": "code",
   "execution_count": null,
   "id": "05f2e711-91ec-4c5f-a3ad-3372e2e54995",
   "metadata": {},
   "outputs": [],
   "source": [
    "v1 = CPRFT[(CPRFT.vendor == 'V1')]\n",
    "v2 = CPRFT[(CPRFT.vendor == 'V2')]\n",
    "\n",
    "v1_intervals_only = v1[v1.event == 'Interval']\n",
    "v2_intervals_only = v2[v2.event == 'Interval']\n",
    "\n",
    "from lifelines.plotting import plot_interval_censored_lifetimes\n",
    "\n",
    "fig, ax = plt.subplots(1, 2)\n",
    "\n",
    "kmf = KaplanMeierFitter()\n",
    "kmf.fit_interval_censoring(v1_intervals_only.hoursl, v1_intervals_only.hoursu)\n",
    "kmf.plot(ax=ax[0])\n",
    "ax[0].set_title('Vendor 1 Survival Function')\n",
    "\n",
    "kmf.fit_interval_censoring(v2_intervals_only.hoursl, v2_intervals_only.hoursu)\n",
    "kmf.plot(ax=ax[1])\n",
    "ax[1].set_title('Vendor 2 Survival Function')\n",
    "\n",
    "fig, ax2 = plt.subplots(1, 2)\n",
    "\n",
    "kmf.fit(v1.hoursl, v1.event != 'Suspended')\n",
    "kmf.plot(ax=ax2[0])\n",
    "\n",
    "kmf.fit(v1.hoursu, v1.event != 'Suspended')\n",
    "kmf.plot(ax=ax2[0])\n",
    "\n",
    "kmf.fit(v2.hoursl, v2.event != 'Suspended')\n",
    "kmf.plot(ax=ax2[1])\n",
    "\n",
    "kmf.fit(v2.hoursu, v2.event != 'Suspended')\n",
    "kmf.plot(ax=ax2[1])\n",
    "\n",
    "ax2[0].set_title('Vendor 1 Survival Function')\n",
    "ax2[1].set_title('Vendor 2 Survival Function')"
   ]
  },
  {
   "cell_type": "markdown",
   "id": "e347875d-9c80-4ea7-bb6e-d3ec1b78c265",
   "metadata": {},
   "source": [
    "The above emperical estimates of the *survival function* have been generated using the **Kaplan Meier Estimate**. The top two plots incorporate the fact that the data is interval censored but ignore the left censoring and right censoring. The bottom two plots incorporate the right censoring but ignore the left censoring and the interval censoring. The inability to incorporate multiple types of censored data is a limitation of the python package used in this analysis."
   ]
  },
  {
   "cell_type": "code",
   "execution_count": null,
   "id": "8689eed0-90c3-4a68-8434-da81349a7012",
   "metadata": {},
   "outputs": [],
   "source": [
    "naf = NelsonAalenFitter()\n",
    "bandwidth = 1000.\n",
    "\n",
    "fig, ax = plt.subplots(1, 2)\n",
    "\n",
    "naf.fit(v1.hoursl, v1.event != 'Suspended')\n",
    "naf.plot_hazard(ax=ax[0], bandwidth = bandwidth)\n",
    "\n",
    "naf.fit(v2.hoursl, v2.event != 'Suspended')\n",
    "naf.plot_hazard(ax=ax[1], bandwidth = bandwidth)\n",
    "\n",
    "naf.fit(v1.hoursu, v1.event != 'Suspended')\n",
    "naf.plot_hazard(ax=ax[0], bandwidth = bandwidth)\n",
    "\n",
    "naf.fit(v2.hoursu, v2.event != 'Suspended')\n",
    "naf.plot_hazard(ax=ax[1], bandwidth = bandwidth)\n",
    "\n",
    "ax[0].set_title('Vendor 1 Hazard Function')\n",
    "ax[1].set_title('Vendor 2 Hazard Function')"
   ]
  },
  {
   "cell_type": "markdown",
   "id": "9c3d8cca-7b12-46dd-b804-7fb49efce559",
   "metadata": {},
   "source": [
    "The above emperical estimates of the *hazard function* have been generated using the **Nelson Aalen Estimate**. The estimates correctly incorporate the right censoring but ignore the left censoring and the interval censoring. The inability to incorporate multiple types of censored data is a limitation of the python package used in this analysis."
   ]
  },
  {
   "cell_type": "markdown",
   "id": "941bd419-9333-4b63-ab4c-e5158c1eab59",
   "metadata": {
    "tags": []
   },
   "source": [
    "# Example 3\n",
    "## Diesel Generator Fan Failure Data\n",
    "---"
   ]
  },
  {
   "cell_type": "markdown",
   "id": "feb5d66e-3b6c-4fef-a33d-4390edfbb191",
   "metadata": {
    "tags": []
   },
   "source": [
    "<img src=\"assets/deisel_generator.jpg\" alt=\"Deisel Generator\" width=\"300\" />\n",
    "\n",
    "Failures in 12 of 70 generator fans were reported at times ranging between 450 hours and 8750 hours. Of the 58 units that did not fail, the reported running times (i.e., censoring times) ranged between 460 and 11500 hours. Different fans had dfifferent running times because units were introduced into service at different times and because their use-rates differed. \n",
    "Diesel Generator Fan Failure\n",
    "### Goals of the study\n",
    "- What percentage of the units will fail under warranty?\n",
    "- Would the fan failure problem get better or worse in the future? In reliability terminology, does hazard function (sometimes called failure rate) for fans increase or decrease with fan age?\n"
   ]
  },
  {
   "cell_type": "code",
   "execution_count": null,
   "id": "98bc1633-3f7f-48bb-aeee-f1fa5abdf6c1",
   "metadata": {},
   "outputs": [],
   "source": [
    "# Load dataset (Diesel Generator Fan Failure Data [DGFFD])\n",
    "DGFFD = pyreadr.read_r('./data/fan.rda')['fan']\n",
    "\n",
    "DGFFD = DGFFD.loc[DGFFD.index.repeat(DGFFD['count'])]\n",
    "del DGFFD['count']\n",
    "\n",
    "DGFFD.reset_index(drop=True, inplace=True)\n",
    "\n",
    "# Preview data format\n",
    "DGFFD.head(5)"
   ]
  },
  {
   "cell_type": "code",
   "execution_count": null,
   "id": "9f9c9e1e-28a5-41d5-a4b5-3aa788fffc21",
   "metadata": {},
   "outputs": [],
   "source": [
    "DGFFD.describe()"
   ]
  },
  {
   "cell_type": "markdown",
   "id": "13d87fca-c73d-4cf0-8205-95964e43e25c",
   "metadata": {},
   "source": [
    "The data has a very basic structure, each measured event has a time and then the kind of event. For example, the first fan failed at 450 hours whereas the second fan was suspeded at 460 hours."
   ]
  },
  {
   "cell_type": "code",
   "execution_count": null,
   "id": "20ad40a5-835f-4be9-8cf9-6eca4c5e1e5c",
   "metadata": {},
   "outputs": [],
   "source": [
    "suspensions = DGFFD[DGFFD.event == 'Censored'].hours\n",
    "failures = DGFFD[DGFFD.event == 'Fail'].hours\n",
    "\n",
    "suspensions.name = 'suspensions'\n",
    "failures.name = 'failures'\n",
    "\n",
    "pd.DataFrame([failures, suspensions]).T.plot.hist(histtype='bar', stacked=True, bins=np.arange(0, 14000, 1000), title='Failures and Suspensions over Time')\n",
    "plt.xlabel('Time (hours)')\n",
    "plt.show()"
   ]
  },
  {
   "cell_type": "markdown",
   "id": "121062db-3608-498a-be1a-ca83b722cc5c",
   "metadata": {},
   "source": [
    "This plot shows a stacked histogram for failures and suspensions over time. We have a lot of data with a \"low\" number of hours: both failures and suspensions. An initial glance at this plot may make you believe that failures occur earlier in the lifetime of the deisel generator fans (indicating the existence of \"burn-in\" failures) however, also notice that there are more suspensions at earlier times than later times too, which indicates there are lots of deisel generator fans surviving at the start of the test. We will have to perform more analysis to form a conclusion."
   ]
  },
  {
   "cell_type": "code",
   "execution_count": null,
   "id": "b49aa24f-2176-4048-954b-04f2994d0e4e",
   "metadata": {},
   "outputs": [],
   "source": [
    "DGFFD_subsample = DGFFD.loc[np.random.permutation(DGFFD.index)]\n",
    "\n",
    "ax = plot_lifetimes(DGFFD_subsample.hours, DGFFD_subsample.event == 'Fail')\n",
    "\n",
    "ax.set_xlabel(\"Time (hours)\")\n",
    "ax.set_yticks([])\n",
    "ax.set_title(\"Deisel Generator Fan Failures of our population\")"
   ]
  },
  {
   "cell_type": "markdown",
   "id": "f94d9354-d82d-40a0-b105-27cf7adf6581",
   "metadata": {},
   "source": [
    "Another classic visualisation of censored failure data. Red bars represent failures with a known failure time. Blue bars represent suspensions with an unknown failure time."
   ]
  },
  {
   "cell_type": "markdown",
   "id": "998e56a1-0c2e-4b58-868f-f5e84874ec39",
   "metadata": {
    "tags": []
   },
   "source": [
    "# Example 4\n",
    "## Heat Exchanger Tube Crack Data"
   ]
  },
  {
   "cell_type": "markdown",
   "id": "48261326-8783-4e54-b89f-28730b7d8c75",
   "metadata": {
    "tags": []
   },
   "source": [
    "<img src=\"assets/heat_exchanger.jpg\" alt=\"Heat Exchanger Tubes\" width=\"300\" />\n",
    "\n",
    "Nuclear power plants use heat exchangers to transfer energy from the reactor to steam turbines. A typical heat exchanger contains thousands of tubes through which steam flows continuously when the heat exchanger is in service. With age, heat exchanger tubes develop cracks, usually due to some combination of stress-corrosion and fatigue. A heat exchanger can continue to operate safely when the cracks are small. If cracks get large enough, however, leaks can develop, and these could lead to serious safety problems and expensive, unplanned plant shut-down time. To protect against least, heat exchangers are taken out of serviec periodically so that its tubes (and other components) can be inspected with nondestructive evaluation techniques. At the end of each inspection period, tubes with detected cracks are plugged so that water will no longer pass through them. This reduces plant efficiency but extends the life of the expensive heat exchangers. With this in mid, heat exchangers are built with extra capacity and can remmain in operation up until the point where a certain percentage (e.g., 5%) of the tubes have been plugged.  "
   ]
  },
  {
   "cell_type": "code",
   "execution_count": null,
   "id": "d8c901c5-4589-48e4-8c1c-9a64d463768e",
   "metadata": {},
   "outputs": [],
   "source": [
    "# Load dataset (Diesel Generator Fan Failure Data [DGFFD])\n",
    "HETCD = pyreadr.read_r('./data/heatexchanger.rda')['heatexchanger']\n",
    "HETCD = HETCD.loc[HETCD.index.repeat(HETCD['count'])]\n",
    "del HETCD['count']\n",
    "\n",
    "HETCD.reset_index(drop=True, inplace=True)\n",
    "\n",
    "# Preview data format\n",
    "HETCD.head(5)"
   ]
  },
  {
   "cell_type": "code",
   "execution_count": null,
   "id": "fd4d6583-e7c8-4852-b59b-8cbc8aed6f1a",
   "metadata": {},
   "outputs": [],
   "source": [
    "HETCD.loc[HETCD.event == 'Right', 'upper'] = np.Infinity\n",
    "HETCD.loc[HETCD.event == 'Left', 'lower'] = 0"
   ]
  },
  {
   "cell_type": "code",
   "execution_count": null,
   "id": "24a48fc7-c33b-4375-9423-a3a10a0e9059",
   "metadata": {},
   "outputs": [],
   "source": [
    "fig, ax = plt.subplots(1, 4)\n",
    "HETCD_p1 = HETCD[HETCD.plant == 'Plant1']\n",
    "HETCD_p2 = HETCD[HETCD.plant == 'Plant2']\n",
    "HETCD_p3 = HETCD[HETCD.plant == 'Plant3']\n",
    "\n",
    "plot_interval_censored_lifetimes(lower_bound=HETCD_p1['lower'], upper_bound=HETCD_p1['upper'], ax = ax[0])\n",
    "plot_interval_censored_lifetimes(lower_bound=HETCD_p2['lower'], upper_bound=HETCD_p2['upper'], ax = ax[1])\n",
    "plot_interval_censored_lifetimes(lower_bound=HETCD_p3['lower'], upper_bound=HETCD_p3['upper'], ax = ax[2])\n",
    "plot_interval_censored_lifetimes(lower_bound=HETCD['lower'], upper_bound=HETCD['upper'], ax = ax[3])"
   ]
  },
  {
   "cell_type": "markdown",
   "id": "02de555a-1577-4cf6-bde3-8ca62279a2bf",
   "metadata": {},
   "source": [
    "# Example 5\n",
    "## Transmitter Vacuum Tube Data"
   ]
  },
  {
   "cell_type": "markdown",
   "id": "f755d9ec-6516-4f5f-8a72-a7397f722a96",
   "metadata": {},
   "source": [
    "<img src=\"assets/vacuum_tube.jpg\" alt=\"Vacuume Tube\" width=\"300\" />"
   ]
  },
  {
   "cell_type": "code",
   "execution_count": null,
   "id": "5d951faf-b659-425f-aeb2-95c164464a43",
   "metadata": {},
   "outputs": [],
   "source": []
  },
  {
   "cell_type": "markdown",
   "id": "59635fac-2935-45c0-9af6-53c4cd1f3b0e",
   "metadata": {},
   "source": [
    "# Example 6\n",
    "## Turbine Wheel Crack Initiation Data"
   ]
  },
  {
   "cell_type": "markdown",
   "id": "2876ae79-4fd7-4c20-8eca-3707024bed6e",
   "metadata": {},
   "source": [
    "<img src=\"assets/turbine_wheel.jpg\" alt=\"Turbine Wheel\" width=\"300\" />"
   ]
  },
  {
   "cell_type": "markdown",
   "id": "0ee74b48-62be-46df-9eed-4532747a2c95",
   "metadata": {},
   "source": []
  },
  {
   "cell_type": "code",
   "execution_count": null,
   "id": "9df254a2-dbad-447f-ac80-7ffa21578218",
   "metadata": {},
   "outputs": [],
   "source": []
  },
  {
   "cell_type": "code",
   "execution_count": null,
   "id": "8190a10f-05fe-4e3f-8267-41cb2d5df912",
   "metadata": {},
   "outputs": [],
   "source": []
  },
  {
   "cell_type": "code",
   "execution_count": null,
   "id": "b5f4ebc4-31a0-432f-81c8-a90250b21c42",
   "metadata": {},
   "outputs": [],
   "source": []
  },
  {
   "cell_type": "code",
   "execution_count": null,
   "id": "14a47f7c-0a87-4961-8e39-84a97f3a7b5b",
   "metadata": {},
   "outputs": [],
   "source": []
  }
 ],
 "metadata": {
  "kernelspec": {
   "display_name": "Python 3",
   "language": "python",
   "name": "python3"
  },
  "language_info": {
   "codemirror_mode": {
    "name": "ipython",
    "version": 3
   },
   "file_extension": ".py",
   "mimetype": "text/x-python",
   "name": "python",
   "nbconvert_exporter": "python",
   "pygments_lexer": "ipython3",
   "version": "3.9.7"
  }
 },
 "nbformat": 4,
 "nbformat_minor": 5
}
