{
 "cells": [
  {
   "cell_type": "markdown",
   "id": "b9ececfe-f3aa-45f6-b96d-50a8ab0e7f50",
   "metadata": {},
   "source": [
    "# Failure-Time Data with no Explanatory Variables\n",
    "---"
   ]
  },
  {
   "cell_type": "code",
   "execution_count": 333,
   "id": "db228807-9f59-4f03-85c3-cccd15008246",
   "metadata": {
    "scrolled": true,
    "tags": []
   },
   "outputs": [
    {
     "name": "stdout",
     "output_type": "stream",
     "text": [
      "Requirement already satisfied: pyreadr in /home/mnef/anaconda3/lib/python3.9/site-packages (0.4.4)\n",
      "Requirement already satisfied: pandas in /home/mnef/anaconda3/lib/python3.9/site-packages (1.3.4)\n",
      "Requirement already satisfied: matplotlib in /home/mnef/anaconda3/lib/python3.9/site-packages (3.5.1)\n",
      "Requirement already satisfied: np in /home/mnef/anaconda3/lib/python3.9/site-packages (1.0.2)\n",
      "Collecting lifelines\n",
      "  Downloading lifelines-0.26.4-py3-none-any.whl (348 kB)\n",
      "\u001b[K     |████████████████████████████████| 348 kB 5.2 MB/s eta 0:00:01\n",
      "\u001b[?25hRequirement already satisfied: python-dateutil>=2.7.3 in /home/mnef/anaconda3/lib/python3.9/site-packages (from pandas) (2.8.2)\n",
      "Requirement already satisfied: pytz>=2017.3 in /home/mnef/anaconda3/lib/python3.9/site-packages (from pandas) (2021.1)\n",
      "Requirement already satisfied: numpy>=1.17.3 in /home/mnef/anaconda3/lib/python3.9/site-packages (from pandas) (1.20.3)\n",
      "Requirement already satisfied: pillow>=6.2.0 in /home/mnef/anaconda3/lib/python3.9/site-packages (from matplotlib) (8.3.2)\n",
      "Requirement already satisfied: packaging>=20.0 in /home/mnef/anaconda3/lib/python3.9/site-packages (from matplotlib) (21.0)\n",
      "Requirement already satisfied: cycler>=0.10 in /home/mnef/anaconda3/lib/python3.9/site-packages (from matplotlib) (0.10.0)\n",
      "Requirement already satisfied: fonttools>=4.22.0 in /home/mnef/anaconda3/lib/python3.9/site-packages (from matplotlib) (4.25.0)\n",
      "Requirement already satisfied: pyparsing>=2.2.1 in /home/mnef/anaconda3/lib/python3.9/site-packages (from matplotlib) (2.4.7)\n",
      "Requirement already satisfied: kiwisolver>=1.0.1 in /home/mnef/anaconda3/lib/python3.9/site-packages (from matplotlib) (1.3.1)\n",
      "Collecting formulaic<0.3,>=0.2.2\n",
      "  Downloading formulaic-0.2.4-py3-none-any.whl (55 kB)\n",
      "\u001b[K     |████████████████████████████████| 55 kB 2.1 MB/s eta 0:00:011\n",
      "\u001b[?25hRequirement already satisfied: scipy>=1.2.0 in /home/mnef/anaconda3/lib/python3.9/site-packages (from lifelines) (1.7.1)\n",
      "Requirement already satisfied: autograd>=1.3 in /home/mnef/anaconda3/lib/python3.9/site-packages (from lifelines) (1.3)\n",
      "Requirement already satisfied: autograd-gamma>=0.3 in /home/mnef/anaconda3/lib/python3.9/site-packages (from lifelines) (0.5.0)\n",
      "Requirement already satisfied: future>=0.15.2 in /home/mnef/anaconda3/lib/python3.9/site-packages (from autograd>=1.3->lifelines) (0.18.2)\n",
      "Requirement already satisfied: six in /home/mnef/anaconda3/lib/python3.9/site-packages (from cycler>=0.10->matplotlib) (1.15.0)\n",
      "Collecting astor\n",
      "  Downloading astor-0.8.1-py2.py3-none-any.whl (27 kB)\n",
      "Requirement already satisfied: wrapt in /home/mnef/anaconda3/lib/python3.9/site-packages (from formulaic<0.3,>=0.2.2->lifelines) (1.12.1)\n",
      "Collecting interface-meta>=1.2\n",
      "  Downloading interface_meta-1.2.4-py2.py3-none-any.whl (14 kB)\n",
      "Installing collected packages: interface-meta, astor, formulaic, lifelines\n",
      "Successfully installed astor-0.8.1 formulaic-0.2.4 interface-meta-1.2.4 lifelines-0.26.4\n",
      "Note: you may need to restart the kernel to use updated packages.\n"
     ]
    }
   ],
   "source": [
    "%pip install pyreadr pandas matplotlib np lifelines"
   ]
  },
  {
   "cell_type": "markdown",
   "id": "242bb5fc-fab9-4915-8d23-1689e2dbeaab",
   "metadata": {
    "tags": []
   },
   "source": [
    "# Table of Contents\n",
    "1. Example 1: Integrated Circuit Life Test Data\n",
    "2. Example 2: Circuit Pack Reliability Field Trial\n",
    "3. Example 3: Diesel Generator Fan Failure Data\n",
    "4. Example 4: Heat Exchanger Tube Crack Data\n",
    "5. Example 5: Transmitter Vacuum Tube Data\n",
    "6. Example 6: Turbine Wheel Crack Initiation Data"
   ]
  },
  {
   "cell_type": "code",
   "execution_count": 17,
   "id": "885eba85-a338-4e1f-8c99-91caa1ac3f64",
   "metadata": {
    "tags": []
   },
   "outputs": [],
   "source": [
    "import pyreadr\n",
    "import pandas as pd\n",
    "import matplotlib\n",
    "import matplotlib.pyplot as plt\n",
    "import numpy as np\n",
    "import itertools\n",
    "import functools\n",
    "import operator\n",
    "import lifelines\n",
    "from lifelines import KaplanMeierFitter, NelsonAalenFitter\n",
    "from lifelines.plotting import plot_lifetimes\n",
    "from statsmodels.distributions.empirical_distribution import ECDF\n",
    "\n",
    "matplotlib.rcParams['figure.figsize'] = (20, 10)"
   ]
  },
  {
   "cell_type": "markdown",
   "id": "466a78df-9e98-40f6-b36d-ba3676103ef6",
   "metadata": {
    "tags": []
   },
   "source": [
    "# Example 1\n",
    "## Integrated Circuit Life Test Data\n",
    "---"
   ]
  },
  {
   "cell_type": "markdown",
   "id": "fd261a2d-1c4a-4832-a687-b2d052a323bf",
   "metadata": {
    "jp-MarkdownHeadingCollapsed": true,
    "tags": []
   },
   "source": [
    "<img src=\"assets/integrated_circuit.JPG\" alt=\"Integrated Circuit\" width=\"300\"/>\n",
    "\n",
    "Results of a life test $ n = 4156 $ integrated circuits tested for $ 1370 $ hours at accelerated conditions of $ 80^\\circ C$ and $80\\%$ relative humidity. The accelerated conditions were used to shorten the test by causing defective units to fail more rapidly. \n"
   ]
  },
  {
   "cell_type": "code",
   "execution_count": 18,
   "id": "e3613f1f-ea7e-416e-b154-fb46bfdd9325",
   "metadata": {},
   "outputs": [
    {
     "data": {
      "text/html": [
       "<div>\n",
       "<style scoped>\n",
       "    .dataframe tbody tr th:only-of-type {\n",
       "        vertical-align: middle;\n",
       "    }\n",
       "\n",
       "    .dataframe tbody tr th {\n",
       "        vertical-align: top;\n",
       "    }\n",
       "\n",
       "    .dataframe thead th {\n",
       "        text-align: right;\n",
       "    }\n",
       "</style>\n",
       "<table border=\"1\" class=\"dataframe\">\n",
       "  <thead>\n",
       "    <tr style=\"text-align: right;\">\n",
       "      <th></th>\n",
       "      <th>hours</th>\n",
       "      <th>event</th>\n",
       "    </tr>\n",
       "  </thead>\n",
       "  <tbody>\n",
       "    <tr>\n",
       "      <th>0</th>\n",
       "      <td>0.10</td>\n",
       "      <td>Failure</td>\n",
       "    </tr>\n",
       "    <tr>\n",
       "      <th>0</th>\n",
       "      <td>0.10</td>\n",
       "      <td>Failure</td>\n",
       "    </tr>\n",
       "    <tr>\n",
       "      <th>1</th>\n",
       "      <td>0.15</td>\n",
       "      <td>Failure</td>\n",
       "    </tr>\n",
       "    <tr>\n",
       "      <th>2</th>\n",
       "      <td>0.60</td>\n",
       "      <td>Failure</td>\n",
       "    </tr>\n",
       "    <tr>\n",
       "      <th>3</th>\n",
       "      <td>0.80</td>\n",
       "      <td>Failure</td>\n",
       "    </tr>\n",
       "  </tbody>\n",
       "</table>\n",
       "</div>"
      ],
      "text/plain": [
       "   hours    event\n",
       "0   0.10  Failure\n",
       "0   0.10  Failure\n",
       "1   0.15  Failure\n",
       "2   0.60  Failure\n",
       "3   0.80  Failure"
      ]
     },
     "execution_count": 18,
     "metadata": {},
     "output_type": "execute_result"
    }
   ],
   "source": [
    "# Load dataset (Integrated Circuit Life Test Data [ICLTD])\n",
    "ICLTD = pyreadr.read_r('./data/lfp1370.RData')['lfp1370']\n",
    "\n",
    "ICLTD = ICLTD.loc[ICLTD.index.repeat(ICLTD['count'])]\n",
    "del ICLTD['count']\n",
    "\n",
    "# Preview data format\n",
    "ICLTD.head(5)"
   ]
  },
  {
   "cell_type": "markdown",
   "id": "01059268-4aea-4950-896b-f33d10e9d3d5",
   "metadata": {},
   "source": [
    "As you can see, the dataset is a list of rows corresponding to how many hours the integrated circuit lasted. The \"count\" column indicated how many integrated circuits failed/suspended at that many hours of testing. Let's check the total number of circuit boards tested by summing up the \"count\" column. We can also calculate the total time on test by summing up the \"hours\" column."
   ]
  },
  {
   "cell_type": "code",
   "execution_count": 19,
   "id": "bd74d619-9018-4c1b-94e1-f58b20d43590",
   "metadata": {},
   "outputs": [
    {
     "name": "stdout",
     "output_type": "stream",
     "text": [
      "Total qty tested: 4156\n",
      "Time on test: 5656967.75\n",
      "\n",
      "Statistics regarding failures only\n",
      "            hours\n",
      "count   28.000000\n",
      "mean    57.419643\n",
      "std    120.271020\n",
      "min      0.100000\n",
      "25%      2.175000\n",
      "50%     11.250000\n",
      "75%     49.500000\n",
      "max    593.000000\n",
      "\n"
     ]
    },
    {
     "data": {
      "text/plain": [
       "<AxesSubplot:title={'center':'Integrated Circuit Failure Times'}>"
      ]
     },
     "execution_count": 19,
     "metadata": {},
     "output_type": "execute_result"
    },
    {
     "data": {
      "image/png": "[encoded data removed]",
      "text/plain": [
       "<Figure size 1440x720 with 1 Axes>"
      ]
     },
     "metadata": {
      "needs_background": "light"
     },
     "output_type": "display_data"
    }
   ],
   "source": [
    "print(f'Total qty tested: {len(ICLTD)}')\n",
    "print(f'Time on test: {ICLTD[\"hours\"].sum()}\\n')\n",
    "\n",
    "# The describe() method returns some useful statistics about the dataset\n",
    "print(\"Statistics regarding failures only\")\n",
    "print(ICLTD[ICLTD['event'] == 'Failure'].describe())\n",
    "print()\n",
    "\n",
    "ICLTD[ICLTD['event'] == 'Failure'].hours.plot(kind='box', x='hours', title='Integrated Circuit Failure Times')"
   ]
  },
  {
   "cell_type": "markdown",
   "id": "429e23b6-ca83-46e0-9a86-f90134c7a3bc",
   "metadata": {},
   "source": [
    "The above boxplot excludes integrated circuits which were suspended (as opposed to failed). Some information about the suspended data is below. We can see that all censored data occurs at the same time 1370 hours."
   ]
  },
  {
   "cell_type": "code",
   "execution_count": 20,
   "id": "f40ccb1d-c096-43ef-994a-e4d7d1194552",
   "metadata": {},
   "outputs": [
    {
     "data": {
      "text/html": [
       "<div>\n",
       "<style scoped>\n",
       "    .dataframe tbody tr th:only-of-type {\n",
       "        vertical-align: middle;\n",
       "    }\n",
       "\n",
       "    .dataframe tbody tr th {\n",
       "        vertical-align: top;\n",
       "    }\n",
       "\n",
       "    .dataframe thead th {\n",
       "        text-align: right;\n",
       "    }\n",
       "</style>\n",
       "<table border=\"1\" class=\"dataframe\">\n",
       "  <thead>\n",
       "    <tr style=\"text-align: right;\">\n",
       "      <th></th>\n",
       "      <th>hours</th>\n",
       "    </tr>\n",
       "  </thead>\n",
       "  <tbody>\n",
       "    <tr>\n",
       "      <th>count</th>\n",
       "      <td>4128.0</td>\n",
       "    </tr>\n",
       "    <tr>\n",
       "      <th>mean</th>\n",
       "      <td>1370.0</td>\n",
       "    </tr>\n",
       "    <tr>\n",
       "      <th>std</th>\n",
       "      <td>0.0</td>\n",
       "    </tr>\n",
       "    <tr>\n",
       "      <th>min</th>\n",
       "      <td>1370.0</td>\n",
       "    </tr>\n",
       "    <tr>\n",
       "      <th>25%</th>\n",
       "      <td>1370.0</td>\n",
       "    </tr>\n",
       "    <tr>\n",
       "      <th>50%</th>\n",
       "      <td>1370.0</td>\n",
       "    </tr>\n",
       "    <tr>\n",
       "      <th>75%</th>\n",
       "      <td>1370.0</td>\n",
       "    </tr>\n",
       "    <tr>\n",
       "      <th>max</th>\n",
       "      <td>1370.0</td>\n",
       "    </tr>\n",
       "  </tbody>\n",
       "</table>\n",
       "</div>"
      ],
      "text/plain": [
       "        hours\n",
       "count  4128.0\n",
       "mean   1370.0\n",
       "std       0.0\n",
       "min    1370.0\n",
       "25%    1370.0\n",
       "50%    1370.0\n",
       "75%    1370.0\n",
       "max    1370.0"
      ]
     },
     "execution_count": 20,
     "metadata": {},
     "output_type": "execute_result"
    }
   ],
   "source": [
    "ICLTD[ICLTD['event'] == 'Censored'].describe()"
   ]
  },
  {
   "cell_type": "markdown",
   "id": "4438feba-09b0-4b12-b06b-37d7a5c1a994",
   "metadata": {},
   "source": [
    "We will now more closely examine the number of failures within the first $100$ hours. Notice that there are 25 failures within this time, with the mean failure time being $23$ hours."
   ]
  },
  {
   "cell_type": "code",
   "execution_count": 21,
   "id": "f84f30a2-e986-4a1e-98ba-1eef9c184632",
   "metadata": {},
   "outputs": [
    {
     "name": "stdout",
     "output_type": "stream",
     "text": [
      "           hours\n",
      "count  25.000000\n",
      "mean   23.350000\n",
      "std    29.012971\n",
      "min     0.100000\n",
      "25%     1.200000\n",
      "50%    10.000000\n",
      "75%    43.000000\n",
      "max    94.000000\n"
     ]
    },
    {
     "data": {
      "text/plain": [
       "<AxesSubplot:title={'center':'Integrated Circuit Failure Times'}>"
      ]
     },
     "execution_count": 21,
     "metadata": {},
     "output_type": "execute_result"
    },
    {
     "data": {
      "image/png": "[encoded data removed]",
      "text/plain": [
       "<Figure size 1440x720 with 1 Axes>"
      ]
     },
     "metadata": {
      "needs_background": "light"
     },
     "output_type": "display_data"
    }
   ],
   "source": [
    "print(ICLTD[(ICLTD['event'] == 'Failure') & (ICLTD['hours'] < 100)].describe())\n",
    "ICLTD[(ICLTD['event'] == 'Failure') & (ICLTD['hours'] < 100)].hours.plot(kind='box', x='hours', title='Integrated Circuit Failure Times')"
   ]
  },
  {
   "cell_type": "markdown",
   "id": "16b4c135-ba5b-42d2-b453-0598ced155df",
   "metadata": {
    "tags": []
   },
   "source": [
    "# Example 2\n",
    "## Circuit Pack Reliability Field Trial\n",
    "---"
   ]
  },
  {
   "cell_type": "markdown",
   "id": "43b92816-4af9-4481-93f4-cd4e70ec5523",
   "metadata": {
    "tags": []
   },
   "source": [
    "<img src=\"assets/circuit_pack.jpg\" alt=\"Circuit Pack\" width=\"300\"/>\n",
    "Periodic inspections were conducted in a field trial of early-production circuit packs employing new technology devices.\n",
    "The circuit packs were manufactured under the same design, but by two different vendors. The trial ran for 10000 hours. The 4993 circuit packs from Vendor 1 came straight from production. 4993 circuit packs from Vendor 2 had already seen 1000 hours of burn-in testing at the maufacturing plant under operating condition similar to those in the field trial. Such circuit packs were sold at a higher price because field reliability was supposed to have been improved by the burn-in screening of circuit packs containing defective components. Failures during the first 1000 hours of burn-in were not recorded. This is the reason for the unknown entries in the table and for having information out to 11000 hours for Vendor 2.\n",
    "Inspections were costly and were spaced more closely at the beginning of the study because more failures were expected there. \n",
    "#### Goals of the study\n",
    "- Determine if there was an important difference in te reliability ofthe products from the two different vendors.\n",
    "- Determine the specific causes of failures so that the information could be used to improve product design or manufacturing methods.\n",
    "- Estimate the circuit pack \"hazard function\" out to 10000 hours\n",
    "- Estimate the point at which the hazard function levels off. After this point in time, burn-in would not be useful for improving the reliability of the circuit packs\n",
    "- Judge if and when the burn-in period can be used effectively to improve early-life reliability\n",
    "- Estimate the failure-time distribution for the first 10000 hours of life (the warranty period for the product)\n",
    "- Estimate the proportion of units that will fail in the first 50000 hours of life.\n",
    "\n"
   ]
  },
  {
   "cell_type": "code",
   "execution_count": 22,
   "id": "0a5238ca-f0e4-4575-a392-90809ba165e2",
   "metadata": {},
   "outputs": [
    {
     "data": {
      "text/html": [
       "<div>\n",
       "<style scoped>\n",
       "    .dataframe tbody tr th:only-of-type {\n",
       "        vertical-align: middle;\n",
       "    }\n",
       "\n",
       "    .dataframe tbody tr th {\n",
       "        vertical-align: top;\n",
       "    }\n",
       "\n",
       "    .dataframe thead th {\n",
       "        text-align: right;\n",
       "    }\n",
       "</style>\n",
       "<table border=\"1\" class=\"dataframe\">\n",
       "  <thead>\n",
       "    <tr style=\"text-align: right;\">\n",
       "      <th></th>\n",
       "      <th>hoursl</th>\n",
       "      <th>hoursu</th>\n",
       "      <th>event</th>\n",
       "      <th>trunccode</th>\n",
       "      <th>trunctime</th>\n",
       "      <th>vendor</th>\n",
       "    </tr>\n",
       "  </thead>\n",
       "  <tbody>\n",
       "    <tr>\n",
       "      <th>0</th>\n",
       "      <td>1</td>\n",
       "      <td>1</td>\n",
       "      <td>Left</td>\n",
       "      <td>1</td>\n",
       "      <td>0</td>\n",
       "      <td>V1</td>\n",
       "    </tr>\n",
       "    <tr>\n",
       "      <th>0</th>\n",
       "      <td>1</td>\n",
       "      <td>1</td>\n",
       "      <td>Left</td>\n",
       "      <td>1</td>\n",
       "      <td>0</td>\n",
       "      <td>V1</td>\n",
       "    </tr>\n",
       "    <tr>\n",
       "      <th>0</th>\n",
       "      <td>1</td>\n",
       "      <td>1</td>\n",
       "      <td>Left</td>\n",
       "      <td>1</td>\n",
       "      <td>0</td>\n",
       "      <td>V1</td>\n",
       "    </tr>\n",
       "    <tr>\n",
       "      <th>0</th>\n",
       "      <td>1</td>\n",
       "      <td>1</td>\n",
       "      <td>Left</td>\n",
       "      <td>1</td>\n",
       "      <td>0</td>\n",
       "      <td>V1</td>\n",
       "    </tr>\n",
       "    <tr>\n",
       "      <th>0</th>\n",
       "      <td>1</td>\n",
       "      <td>1</td>\n",
       "      <td>Left</td>\n",
       "      <td>1</td>\n",
       "      <td>0</td>\n",
       "      <td>V1</td>\n",
       "    </tr>\n",
       "    <tr>\n",
       "      <th>...</th>\n",
       "      <td>...</td>\n",
       "      <td>...</td>\n",
       "      <td>...</td>\n",
       "      <td>...</td>\n",
       "      <td>...</td>\n",
       "      <td>...</td>\n",
       "    </tr>\n",
       "    <tr>\n",
       "      <th>26</th>\n",
       "      <td>11000</td>\n",
       "      <td>11000</td>\n",
       "      <td>Suspended</td>\n",
       "      <td>3</td>\n",
       "      <td>1000</td>\n",
       "      <td>V2</td>\n",
       "    </tr>\n",
       "    <tr>\n",
       "      <th>26</th>\n",
       "      <td>11000</td>\n",
       "      <td>11000</td>\n",
       "      <td>Suspended</td>\n",
       "      <td>3</td>\n",
       "      <td>1000</td>\n",
       "      <td>V2</td>\n",
       "    </tr>\n",
       "    <tr>\n",
       "      <th>26</th>\n",
       "      <td>11000</td>\n",
       "      <td>11000</td>\n",
       "      <td>Suspended</td>\n",
       "      <td>3</td>\n",
       "      <td>1000</td>\n",
       "      <td>V2</td>\n",
       "    </tr>\n",
       "    <tr>\n",
       "      <th>26</th>\n",
       "      <td>11000</td>\n",
       "      <td>11000</td>\n",
       "      <td>Suspended</td>\n",
       "      <td>3</td>\n",
       "      <td>1000</td>\n",
       "      <td>V2</td>\n",
       "    </tr>\n",
       "    <tr>\n",
       "      <th>26</th>\n",
       "      <td>11000</td>\n",
       "      <td>11000</td>\n",
       "      <td>Suspended</td>\n",
       "      <td>3</td>\n",
       "      <td>1000</td>\n",
       "      <td>V2</td>\n",
       "    </tr>\n",
       "  </tbody>\n",
       "</table>\n",
       "<p>9986 rows × 6 columns</p>\n",
       "</div>"
      ],
      "text/plain": [
       "    hoursl  hoursu      event  trunccode  trunctime vendor\n",
       "0        1       1       Left          1          0     V1\n",
       "0        1       1       Left          1          0     V1\n",
       "0        1       1       Left          1          0     V1\n",
       "0        1       1       Left          1          0     V1\n",
       "0        1       1       Left          1          0     V1\n",
       "..     ...     ...        ...        ...        ...    ...\n",
       "26   11000   11000  Suspended          3       1000     V2\n",
       "26   11000   11000  Suspended          3       1000     V2\n",
       "26   11000   11000  Suspended          3       1000     V2\n",
       "26   11000   11000  Suspended          3       1000     V2\n",
       "26   11000   11000  Suspended          3       1000     V2\n",
       "\n",
       "[9986 rows x 6 columns]"
      ]
     },
     "execution_count": 22,
     "metadata": {},
     "output_type": "execute_result"
    }
   ],
   "source": [
    "# Load dataset (Circuit Pack Reliability Field Trial [CPRFT])\n",
    "CPRFT = pyreadr.read_r('./data/cirpack6.RData')['cirpack6']\n",
    "CPRFT = CPRFT.loc[CPRFT.index.repeat(CPRFT['count'])]\n",
    "del CPRFT['count']\n",
    "CPRFT"
   ]
  },
  {
   "cell_type": "markdown",
   "id": "9ed9a360-47cd-481d-b044-406ed04d3fb8",
   "metadata": {},
   "source": [
    "Here we can see the structure of the data.\n",
    "`hoursl` and `hoursu` specify the interval of time where the event happened. This is an interval and not a specific value because in practice the people conducting the experiment couldn't know the exact moment a circuit pack would break. They would conduct inspections of all the packs periodically, they would then know if a circuit pack broke since their last inspection (but they don't know exactly when during that time). `event` tells us the kind of event this is, it can take on 3 categories: `Left`, `Interval` and `Suspended`. \"Left\" corresponds to the packs which were removed during Vendor 1's burn-in phase, \"Suspended\" corresponds to packs that remained running at the end of the experiment, \"Interval\" corresponds to packs which failed during an interval of time \\[hoursl, hoursu\\]. `vendor` states which vendor manufactured the circuit pack."
   ]
  },
  {
   "cell_type": "code",
   "execution_count": 23,
   "id": "f2e57a84-f2e3-433f-a99c-30b4c5833b4d",
   "metadata": {},
   "outputs": [
    {
     "data": {
      "image/png": "[encoded data removed]",
      "text/plain": [
       "<Figure size 1440x360 with 3 Axes>"
      ]
     },
     "metadata": {
      "needs_background": "light"
     },
     "output_type": "display_data"
    }
   ],
   "source": [
    "failures = CPRFT[(CPRFT['event'] == 'Interval')]\n",
    "\n",
    "fig, ax = plt.subplots(1,3, figsize=(20,5))\n",
    "\n",
    "ymin, ymax = min(min(failures.hoursl), min(failures.hoursu)), max(max(failures.hoursl), max(failures.hoursu))\n",
    "\n",
    "failures[failures.vendor == 'V1'][['hoursl', 'hoursu']].plot(kind=\"box\", title='Vendor 1', ax = ax[0])\n",
    "failures[failures.vendor == 'V2'][['hoursl', 'hoursu']].plot(kind=\"box\", title='Vendor 2', ax = ax[1])\n",
    "failures[['hoursl', 'hoursu']].plot(kind=\"box\", title='Combined', ax = ax[2])\n",
    "for i in range(3):\n",
    "    # make all subplots have the same axis ranges\n",
    "    ax[i].set_ylim(ymin - 1000, ymax * 1.05)\n",
    "    \n",
    "plt.show(fig)"
   ]
  },
  {
   "cell_type": "markdown",
   "id": "3fadcb38-8d43-4d9b-974a-a3d593329863",
   "metadata": {},
   "source": [
    "These $ 3 $ boxplots show the the failure times of the circuit packs for each vendor (**I have only included datapoints which are interval censored**). Each plot consists of 2 sub-plots, one for the fields corresponding to the lower bound on the interval and one for the upper bounds. \n",
    "Take a look at the data we loaded, you may suggest a reasonable estimate for the time a failure happened during an interval is in-between the lower and upper bound, this is false (this phenomenon is named the Poisson Paradox or Inspection Paradox) however is out of the scope of this analysis. "
   ]
  },
  {
   "cell_type": "code",
   "execution_count": 30,
   "id": "05f2e711-91ec-4c5f-a3ad-3372e2e54995",
   "metadata": {},
   "outputs": [
    {
     "data": {
      "text/plain": [
       "Text(0.5, 1.0, 'Vendor 2 Survival Function')"
      ]
     },
     "execution_count": 30,
     "metadata": {},
     "output_type": "execute_result"
    },
    {
     "data": {
      "image/png": "[encoded data removed]",
      "text/plain": [
       "<Figure size 1440x720 with 2 Axes>"
      ]
     },
     "metadata": {
      "needs_background": "light"
     },
     "output_type": "display_data"
    },
    {
     "data": {
      "image/png": "[encoded data removed]",
      "text/plain": [
       "<Figure size 1440x720 with 2 Axes>"
      ]
     },
     "metadata": {
      "needs_background": "light"
     },
     "output_type": "display_data"
    }
   ],
   "source": [
    "v1 = CPRFT[(CPRFT.vendor == 'V1')]\n",
    "v2 = CPRFT[(CPRFT.vendor == 'V2')]\n",
    "\n",
    "v1_intervals_only = v1[v1.event == 'Interval']\n",
    "v2_intervals_only = v2[v2.event == 'Interval']\n",
    "\n",
    "from lifelines.plotting import plot_interval_censored_lifetimes\n",
    "\n",
    "fig, ax = plt.subplots(1, 2)\n",
    "\n",
    "kmf = KaplanMeierFitter()\n",
    "kmf.fit_interval_censoring(v1_intervals_only.hoursl, v1_intervals_only.hoursu)\n",
    "kmf.plot(ax=ax[0])\n",
    "ax[0].set_title('Vendor 1 Survival Function')\n",
    "\n",
    "kmf.fit_interval_censoring(v2_intervals_only.hoursl, v2_intervals_only.hoursu)\n",
    "kmf.plot(ax=ax[1])\n",
    "ax[1].set_title('Vendor 2 Survival Function')\n",
    "\n",
    "fig, ax2 = plt.subplots(1, 2)\n",
    "\n",
    "kmf.fit(v1.hoursl, v1.event != 'Suspended')\n",
    "kmf.plot(ax=ax2[0])\n",
    "\n",
    "kmf.fit(v1.hoursu, v1.event != 'Suspended')\n",
    "kmf.plot(ax=ax2[0])\n",
    "\n",
    "kmf.fit(v2.hoursl, v2.event != 'Suspended')\n",
    "kmf.plot(ax=ax2[1])\n",
    "\n",
    "kmf.fit(v2.hoursu, v2.event != 'Suspended')\n",
    "kmf.plot(ax=ax2[1])\n",
    "\n",
    "ax2[0].set_title('Vendor 1 Survival Function')\n",
    "ax2[1].set_title('Vendor 2 Survival Function')"
   ]
  },
  {
   "cell_type": "markdown",
   "id": "e347875d-9c80-4ea7-bb6e-d3ec1b78c265",
   "metadata": {},
   "source": [
    "The above emperical estimates of the *survival function* have been generated using the **Kaplan Meier Estimate**. The top two plots incorporate the fact that the data is interval censored but ignore the left censoring and right censoring. The bottom two plots incorporate the right censoring but ignore the left censoring and the interval censoring. The inability to incorporate multiple types of censored data is a limitation of the python package used in this analysis."
   ]
  },
  {
   "cell_type": "code",
   "execution_count": 31,
   "id": "8689eed0-90c3-4a68-8434-da81349a7012",
   "metadata": {},
   "outputs": [
    {
     "data": {
      "text/plain": [
       "Text(0.5, 1.0, 'Vendor 2 Hazard Function')"
      ]
     },
     "execution_count": 31,
     "metadata": {},
     "output_type": "execute_result"
    },
    {
     "data": {
      "image/png": "[encoded data removed]",
      "text/plain": [
       "<Figure size 1440x720 with 2 Axes>"
      ]
     },
     "metadata": {
      "needs_background": "light"
     },
     "output_type": "display_data"
    }
   ],
   "source": [
    "naf = NelsonAalenFitter()\n",
    "bandwidth = 1000.\n",
    "\n",
    "fig, ax = plt.subplots(1, 2)\n",
    "\n",
    "naf.fit(v1.hoursl, v1.event != 'Suspended')\n",
    "naf.plot_hazard(ax=ax[0], bandwidth = bandwidth)\n",
    "\n",
    "naf.fit(v2.hoursl, v2.event != 'Suspended')\n",
    "naf.plot_hazard(ax=ax[1], bandwidth = bandwidth)\n",
    "\n",
    "naf.fit(v1.hoursu, v1.event != 'Suspended')\n",
    "naf.plot_hazard(ax=ax[0], bandwidth = bandwidth)\n",
    "\n",
    "naf.fit(v2.hoursu, v2.event != 'Suspended')\n",
    "naf.plot_hazard(ax=ax[1], bandwidth = bandwidth)\n",
    "\n",
    "ax[0].set_title('Vendor 1 Hazard Function')\n",
    "ax[1].set_title('Vendor 2 Hazard Function')"
   ]
  },
  {
   "cell_type": "markdown",
   "id": "9c3d8cca-7b12-46dd-b804-7fb49efce559",
   "metadata": {},
   "source": [
    "The above emperical estimates of the *hazard function* have been generated using the **Nelson Aalen Estimate**. The estimates correctly incorporate the right censoring but ignore the left censoring and the interval censoring. The inability to incorporate multiple types of censored data is a limitation of the python package used in this analysis."
   ]
  },
  {
   "cell_type": "markdown",
   "id": "941bd419-9333-4b63-ab4c-e5158c1eab59",
   "metadata": {
    "tags": []
   },
   "source": [
    "# Example 3\n",
    "## Diesel Generator Fan Failure Data\n",
    "---"
   ]
  },
  {
   "cell_type": "markdown",
   "id": "feb5d66e-3b6c-4fef-a33d-4390edfbb191",
   "metadata": {
    "tags": []
   },
   "source": [
    "<img src=\"assets/deisel_generator.jpg\" alt=\"Deisel Generator\" width=\"300\"/>\n",
    "\n",
    "Failures in 12 of 70 generator fans were reported at times ranging between 450 hours and 8750 hours. Of the 58 units that did not fail, the reported running times (i.e., censoring times) ranged between 460 and 11500 hours. Different fans had dfifferent running times because units were introduced into service at different times and because their use-rates differed. \n",
    "Diesel Generator Fan Failure\n",
    "### Goals of the study\n",
    "- What percentage of the units will fail under warranty?\n",
    "- Would the fan failure problem get better or worse in the future? In reliability terminology, does hazard function (sometimes called failure rate) for fans increase or decrease with fan age?\n"
   ]
  },
  {
   "cell_type": "code",
   "execution_count": 32,
   "id": "98bc1633-3f7f-48bb-aeee-f1fa5abdf6c1",
   "metadata": {},
   "outputs": [
    {
     "data": {
      "text/html": [
       "<div>\n",
       "<style scoped>\n",
       "    .dataframe tbody tr th:only-of-type {\n",
       "        vertical-align: middle;\n",
       "    }\n",
       "\n",
       "    .dataframe tbody tr th {\n",
       "        vertical-align: top;\n",
       "    }\n",
       "\n",
       "    .dataframe thead th {\n",
       "        text-align: right;\n",
       "    }\n",
       "</style>\n",
       "<table border=\"1\" class=\"dataframe\">\n",
       "  <thead>\n",
       "    <tr style=\"text-align: right;\">\n",
       "      <th></th>\n",
       "      <th>hours</th>\n",
       "      <th>event</th>\n",
       "    </tr>\n",
       "  </thead>\n",
       "  <tbody>\n",
       "    <tr>\n",
       "      <th>0</th>\n",
       "      <td>450.0</td>\n",
       "      <td>Fail</td>\n",
       "    </tr>\n",
       "    <tr>\n",
       "      <th>1</th>\n",
       "      <td>460.0</td>\n",
       "      <td>Censored</td>\n",
       "    </tr>\n",
       "    <tr>\n",
       "      <th>2</th>\n",
       "      <td>1150.0</td>\n",
       "      <td>Fail</td>\n",
       "    </tr>\n",
       "    <tr>\n",
       "      <th>3</th>\n",
       "      <td>1150.0</td>\n",
       "      <td>Fail</td>\n",
       "    </tr>\n",
       "    <tr>\n",
       "      <th>4</th>\n",
       "      <td>1560.0</td>\n",
       "      <td>Censored</td>\n",
       "    </tr>\n",
       "  </tbody>\n",
       "</table>\n",
       "</div>"
      ],
      "text/plain": [
       "    hours     event\n",
       "0   450.0      Fail\n",
       "1   460.0  Censored\n",
       "2  1150.0      Fail\n",
       "3  1150.0      Fail\n",
       "4  1560.0  Censored"
      ]
     },
     "execution_count": 32,
     "metadata": {},
     "output_type": "execute_result"
    }
   ],
   "source": [
    "# Load dataset (Diesel Generator Fan Failure Data [DGFFD])\n",
    "DGFFD = pyreadr.read_r('./data/fan.rda')['fan']\n",
    "\n",
    "DGFFD = DGFFD.loc[DGFFD.index.repeat(DGFFD['count'])]\n",
    "del DGFFD['count']\n",
    "\n",
    "DGFFD.reset_index(drop=True, inplace=True)\n",
    "\n",
    "# Preview data format\n",
    "DGFFD.head(5)"
   ]
  },
  {
   "cell_type": "code",
   "execution_count": 33,
   "id": "9f9c9e1e-28a5-41d5-a4b5-3aa788fffc21",
   "metadata": {},
   "outputs": [
    {
     "data": {
      "text/html": [
       "<div>\n",
       "<style scoped>\n",
       "    .dataframe tbody tr th:only-of-type {\n",
       "        vertical-align: middle;\n",
       "    }\n",
       "\n",
       "    .dataframe tbody tr th {\n",
       "        vertical-align: top;\n",
       "    }\n",
       "\n",
       "    .dataframe thead th {\n",
       "        text-align: right;\n",
       "    }\n",
       "</style>\n",
       "<table border=\"1\" class=\"dataframe\">\n",
       "  <thead>\n",
       "    <tr style=\"text-align: right;\">\n",
       "      <th></th>\n",
       "      <th>hours</th>\n",
       "    </tr>\n",
       "  </thead>\n",
       "  <tbody>\n",
       "    <tr>\n",
       "      <th>count</th>\n",
       "      <td>70.000000</td>\n",
       "    </tr>\n",
       "    <tr>\n",
       "      <th>mean</th>\n",
       "      <td>4920.571429</td>\n",
       "    </tr>\n",
       "    <tr>\n",
       "      <th>std</th>\n",
       "      <td>2837.406902</td>\n",
       "    </tr>\n",
       "    <tr>\n",
       "      <th>min</th>\n",
       "      <td>450.000000</td>\n",
       "    </tr>\n",
       "    <tr>\n",
       "      <th>25%</th>\n",
       "      <td>2110.000000</td>\n",
       "    </tr>\n",
       "    <tr>\n",
       "      <th>50%</th>\n",
       "      <td>4300.000000</td>\n",
       "    </tr>\n",
       "    <tr>\n",
       "      <th>75%</th>\n",
       "      <td>7262.500000</td>\n",
       "    </tr>\n",
       "    <tr>\n",
       "      <th>max</th>\n",
       "      <td>11500.000000</td>\n",
       "    </tr>\n",
       "  </tbody>\n",
       "</table>\n",
       "</div>"
      ],
      "text/plain": [
       "              hours\n",
       "count     70.000000\n",
       "mean    4920.571429\n",
       "std     2837.406902\n",
       "min      450.000000\n",
       "25%     2110.000000\n",
       "50%     4300.000000\n",
       "75%     7262.500000\n",
       "max    11500.000000"
      ]
     },
     "execution_count": 33,
     "metadata": {},
     "output_type": "execute_result"
    }
   ],
   "source": [
    "DGFFD.describe()"
   ]
  },
  {
   "cell_type": "markdown",
   "id": "13d87fca-c73d-4cf0-8205-95964e43e25c",
   "metadata": {},
   "source": [
    "The data has a very basic structure, each measured event has a time and then the kind of event. For example, the first fan failed at 450 hours whereas the second fan was suspeded at 460 hours."
   ]
  },
  {
   "cell_type": "code",
   "execution_count": 34,
   "id": "20ad40a5-835f-4be9-8cf9-6eca4c5e1e5c",
   "metadata": {},
   "outputs": [
    {
     "data": {
      "image/png": "[encoded data removed]",
      "text/plain": [
       "<Figure size 1440x720 with 1 Axes>"
      ]
     },
     "metadata": {
      "needs_background": "light"
     },
     "output_type": "display_data"
    }
   ],
   "source": [
    "suspensions = DGFFD[DGFFD.event == 'Censored'].hours\n",
    "failures = DGFFD[DGFFD.event == 'Fail'].hours\n",
    "\n",
    "suspensions.name = 'suspensions'\n",
    "failures.name = 'failures'\n",
    "\n",
    "pd.DataFrame([failures, suspensions]).T.plot.hist(histtype='bar', stacked=True, bins=np.arange(0, 14000, 1000), title='Failures and Suspensions over Time')\n",
    "plt.xlabel('Time (hours)')\n",
    "plt.show()"
   ]
  },
  {
   "cell_type": "markdown",
   "id": "121062db-3608-498a-be1a-ca83b722cc5c",
   "metadata": {},
   "source": [
    "This plot shows a stacked histogram for failures and suspensions over time. We have a lot of data with a \"low\" number of hours: both failures and suspensions. An initial glance at this plot may make you believe that failures occur earlier in the lifetime of the deisel generator fans (indicating the existence of \"burn-in\" failures) however, also notice that there are more suspensions at earlier times than later times too, which indicates there are lots of deisel generator fans surviving at the start of the test. We will have to perform more analysis to form a conclusion."
   ]
  },
  {
   "cell_type": "code",
   "execution_count": 37,
   "id": "b49aa24f-2176-4048-954b-04f2994d0e4e",
   "metadata": {},
   "outputs": [
    {
     "data": {
      "text/plain": [
       "Text(0.5, 1.0, 'Deisel Generator Fan Failures of our population')"
      ]
     },
     "execution_count": 37,
     "metadata": {},
     "output_type": "execute_result"
    },
    {
     "data": {
      "image/png": "[encoded data removed]",
      "text/plain": [
       "<Figure size 1440x720 with 1 Axes>"
      ]
     },
     "metadata": {
      "needs_background": "light"
     },
     "output_type": "display_data"
    }
   ],
   "source": [
    "DGFFD_subsample = DGFFD.loc[np.random.permutation(DGFFD.index)]\n",
    "\n",
    "ax = plot_lifetimes(DGFFD_subsample.hours, DGFFD_subsample.event == 'Fail')\n",
    "\n",
    "ax.set_xlabel(\"Time (hours)\")\n",
    "ax.set_yticks([])\n",
    "ax.set_title(\"Deisel Generator Fan Failures of our population\")"
   ]
  },
  {
   "cell_type": "markdown",
   "id": "f94d9354-d82d-40a0-b105-27cf7adf6581",
   "metadata": {},
   "source": [
    "Another classic visualisation of censored failure data. Red bars represent failures with a known failure time. Blue bars represent suspensions with an unknown failure time."
   ]
  },
  {
   "cell_type": "markdown",
   "id": "998e56a1-0c2e-4b58-868f-f5e84874ec39",
   "metadata": {
    "tags": []
   },
   "source": [
    "# Example 4\n",
    "## Heat Exchanger Tube Crack Data"
   ]
  },
  {
   "cell_type": "markdown",
   "id": "48261326-8783-4e54-b89f-28730b7d8c75",
   "metadata": {
    "tags": []
   },
   "source": [
    "<img src=\"assets/heat_exchanger.jpg\" alt=\"Heat Exchanger Tubes\" width=\"300\"/>\n",
    "\n",
    "Nuclear power plants use heat exchangers to transfer energy from the reactor to steam turbines. A typical heat exchanger contains thousands of tubes through which steam flows continuously when the heat exchanger is in service. With age, heat exchanger tubes develop cracks, usually due to some combination of stress-corrosion and fatigue. A heat exchanger can continue to operate safely when the cracks are small. If cracks get large enough, however, leaks can develop, and these could lead to serious safety problems and expensive, unplanned plant shut-down time. To protect against least, heat exchangers are taken out of serviec periodically so that its tubes (and other components) can be inspected with nondestructive evaluation techniques. At the end of each inspection period, tubes with detected cracks are plugged so that water will no longer pass through them. This reduces plant efficiency but extends the life of the expensive heat exchangers. With this in mid, heat exchangers are built with extra capacity and can remmain in operation up until the point where a certain percentage (e.g., 5%) of the tubes have been plugged.  "
   ]
  },
  {
   "cell_type": "code",
   "execution_count": 73,
   "id": "d8c901c5-4589-48e4-8c1c-9a64d463768e",
   "metadata": {},
   "outputs": [
    {
     "data": {
      "text/html": [
       "<div>\n",
       "<style scoped>\n",
       "    .dataframe tbody tr th:only-of-type {\n",
       "        vertical-align: middle;\n",
       "    }\n",
       "\n",
       "    .dataframe tbody tr th {\n",
       "        vertical-align: top;\n",
       "    }\n",
       "\n",
       "    .dataframe thead th {\n",
       "        text-align: right;\n",
       "    }\n",
       "</style>\n",
       "<table border=\"1\" class=\"dataframe\">\n",
       "  <thead>\n",
       "    <tr style=\"text-align: right;\">\n",
       "      <th></th>\n",
       "      <th>lower</th>\n",
       "      <th>upper</th>\n",
       "      <th>event</th>\n",
       "      <th>plant</th>\n",
       "    </tr>\n",
       "  </thead>\n",
       "  <tbody>\n",
       "    <tr>\n",
       "      <th>0</th>\n",
       "      <td>1</td>\n",
       "      <td>1</td>\n",
       "      <td>Left</td>\n",
       "      <td>Plant1</td>\n",
       "    </tr>\n",
       "    <tr>\n",
       "      <th>1</th>\n",
       "      <td>1</td>\n",
       "      <td>2</td>\n",
       "      <td>Interval</td>\n",
       "      <td>Plant1</td>\n",
       "    </tr>\n",
       "    <tr>\n",
       "      <th>2</th>\n",
       "      <td>1</td>\n",
       "      <td>2</td>\n",
       "      <td>Interval</td>\n",
       "      <td>Plant1</td>\n",
       "    </tr>\n",
       "    <tr>\n",
       "      <th>3</th>\n",
       "      <td>2</td>\n",
       "      <td>3</td>\n",
       "      <td>Interval</td>\n",
       "      <td>Plant1</td>\n",
       "    </tr>\n",
       "    <tr>\n",
       "      <th>4</th>\n",
       "      <td>2</td>\n",
       "      <td>3</td>\n",
       "      <td>Interval</td>\n",
       "      <td>Plant1</td>\n",
       "    </tr>\n",
       "  </tbody>\n",
       "</table>\n",
       "</div>"
      ],
      "text/plain": [
       "   lower  upper     event   plant\n",
       "0      1      1      Left  Plant1\n",
       "1      1      2  Interval  Plant1\n",
       "2      1      2  Interval  Plant1\n",
       "3      2      3  Interval  Plant1\n",
       "4      2      3  Interval  Plant1"
      ]
     },
     "execution_count": 73,
     "metadata": {},
     "output_type": "execute_result"
    }
   ],
   "source": [
    "# Load dataset (Diesel Generator Fan Failure Data [DGFFD])\n",
    "HETCD = pyreadr.read_r('./data/heatexchanger.rda')['heatexchanger']\n",
    "HETCD = HETCD.loc[HETCD.index.repeat(HETCD['count'])]\n",
    "del HETCD['count']\n",
    "\n",
    "HETCD.reset_index(drop=True, inplace=True)\n",
    "\n",
    "# Preview data format\n",
    "HETCD.head(5)"
   ]
  },
  {
   "cell_type": "code",
   "execution_count": 79,
   "id": "fd4d6583-e7c8-4852-b59b-8cbc8aed6f1a",
   "metadata": {},
   "outputs": [],
   "source": [
    "HETCD.loc[HETCD.event == 'Right', 'upper'] = np.Infinity\n",
    "HETCD.loc[HETCD.event == 'Left', 'lower'] = 0"
   ]
  },
  {
   "cell_type": "code",
   "execution_count": 83,
   "id": "24a48fc7-c33b-4375-9423-a3a10a0e9059",
   "metadata": {},
   "outputs": [
    {
     "data": {
      "text/plain": [
       "<AxesSubplot:>"
      ]
     },
     "execution_count": 83,
     "metadata": {},
     "output_type": "execute_result"
    },
    {
     "data": {
      "image/png": "[encoded data removed]",
      "text/plain": [
       "<Figure size 1440x720 with 4 Axes>"
      ]
     },
     "metadata": {
      "needs_background": "light"
     },
     "output_type": "display_data"
    }
   ],
   "source": [
    "fig, ax = plt.subplots(1, 4)\n",
    "HETCD_p1 = HETCD[HETCD.plant == 'Plant1']\n",
    "HETCD_p2 = HETCD[HETCD.plant == 'Plant2']\n",
    "HETCD_p3 = HETCD[HETCD.plant == 'Plant3']\n",
    "\n",
    "plot_interval_censored_lifetimes(lower_bound=HETCD_p1['lower'], upper_bound=HETCD_p1['upper'], ax = ax[0])\n",
    "plot_interval_censored_lifetimes(lower_bound=HETCD_p2['lower'], upper_bound=HETCD_p2['upper'], ax = ax[1])\n",
    "plot_interval_censored_lifetimes(lower_bound=HETCD_p3['lower'], upper_bound=HETCD_p3['upper'], ax = ax[2])\n",
    "plot_interval_censored_lifetimes(lower_bound=HETCD['lower'], upper_bound=HETCD['upper'], ax = ax[3])"
   ]
  },
  {
   "cell_type": "markdown",
   "id": "02de555a-1577-4cf6-bde3-8ca62279a2bf",
   "metadata": {},
   "source": [
    "# Example 5\n",
    "## Transmitter Vacuum Tube Data"
   ]
  },
  {
   "cell_type": "markdown",
   "id": "f755d9ec-6516-4f5f-8a72-a7397f722a96",
   "metadata": {},
   "source": [
    "<img src=\"assets/vacuum_tube.jpg\" alt=\"Vacuume Tube\" width=\"300\"/>"
   ]
  },
  {
   "cell_type": "code",
   "execution_count": null,
   "id": "5d951faf-b659-425f-aeb2-95c164464a43",
   "metadata": {},
   "outputs": [],
   "source": []
  },
  {
   "cell_type": "markdown",
   "id": "59635fac-2935-45c0-9af6-53c4cd1f3b0e",
   "metadata": {},
   "source": [
    "# Example 6\n",
    "## Turbine Wheel Crack Initiation Data"
   ]
  },
  {
   "cell_type": "markdown",
   "id": "2876ae79-4fd7-4c20-8eca-3707024bed6e",
   "metadata": {},
   "source": [
    "<img src=\"assets/turbine_wheel.jpg\" alt=\"Turbine Wheel\" width=\"300\"/>"
   ]
  },
  {
   "cell_type": "markdown",
   "id": "0ee74b48-62be-46df-9eed-4532747a2c95",
   "metadata": {},
   "source": []
  },
  {
   "cell_type": "code",
   "execution_count": null,
   "id": "9df254a2-dbad-447f-ac80-7ffa21578218",
   "metadata": {},
   "outputs": [],
   "source": []
  },
  {
   "cell_type": "code",
   "execution_count": null,
   "id": "8190a10f-05fe-4e3f-8267-41cb2d5df912",
   "metadata": {},
   "outputs": [],
   "source": []
  },
  {
   "cell_type": "code",
   "execution_count": null,
   "id": "b5f4ebc4-31a0-432f-81c8-a90250b21c42",
   "metadata": {},
   "outputs": [],
   "source": []
  },
  {
   "cell_type": "code",
   "execution_count": null,
   "id": "14a47f7c-0a87-4961-8e39-84a97f3a7b5b",
   "metadata": {},
   "outputs": [],
   "source": []
  }
 ],
 "metadata": {
  "kernelspec": {
   "display_name": "Python 3",
   "language": "python",
   "name": "python3"
  },
  "language_info": {
   "codemirror_mode": {
    "name": "ipython",
    "version": 3
   },
   "file_extension": ".py",
   "mimetype": "text/x-python",
   "name": "python",
   "nbconvert_exporter": "python",
   "pygments_lexer": "ipython3",
   "version": "3.9.7"
  }
 },
 "nbformat": 4,
 "nbformat_minor": 5
}
