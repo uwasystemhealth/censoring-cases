{
 "cells": [
  {
   "cell_type": "markdown",
   "id": "b9ececfe-f3aa-45f6-b96d-50a8ab0e7f50",
   "metadata": {},
   "source": [
    "# Failure-Time Data with Explanatory Variables\n",
    "---"
   ]
  },
  {
   "cell_type": "markdown",
   "id": "f4df0e34-a754-4a5b-86da-8a8295d326b7",
   "metadata": {},
   "source": [
    "## Printed Circuit Board Accelerated Life Test Data"
   ]
  },
  {
   "cell_type": "code",
   "execution_count": null,
   "id": "ef98482b-89a5-40c8-8128-88f729174b2b",
   "metadata": {},
   "outputs": [],
   "source": []
  },
  {
   "cell_type": "markdown",
   "id": "fae03690-15a9-4542-9ed3-0672c827525f",
   "metadata": {},
   "source": [
    "## Accelerated Test of Spacecraft Nickel-Cadmium Batttery Cells"
   ]
  },
  {
   "cell_type": "code",
   "execution_count": null,
   "id": "fdf7e24c-97e4-48c7-8c10-1c7842f184ca",
   "metadata": {},
   "outputs": [],
   "source": []
  }
 ],
 "metadata": {
  "kernelspec": {
   "display_name": "Python 3",
   "language": "python",
   "name": "python3"
  },
  "language_info": {
   "codemirror_mode": {
    "name": "ipython",
    "version": 3
   },
   "file_extension": ".py",
   "mimetype": "text/x-python",
   "name": "python",
   "nbconvert_exporter": "python",
   "pygments_lexer": "ipython3",
   "version": "3.9.7"
  }
 },
 "nbformat": 4,
 "nbformat_minor": 5
}
